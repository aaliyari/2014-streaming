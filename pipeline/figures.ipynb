{
 "metadata": {
  "name": "",
  "signature": "sha256:b090ddcfca7fbd56c900887c0844af85d01b17b97514b5aff09cc022352605b7"
 },
 "nbformat": 3,
 "nbformat_minor": 0,
 "worksheets": [
  {
   "cells": [
    {
     "cell_type": "code",
     "collapsed": false,
     "input": [
      "%pylab inline"
     ],
     "language": "python",
     "metadata": {},
     "outputs": [
      {
       "output_type": "stream",
       "stream": "stdout",
       "text": [
        "Populating the interactive namespace from numpy and matplotlib\n"
       ]
      }
     ],
     "prompt_number": 1
    },
    {
     "cell_type": "code",
     "collapsed": false,
     "input": [
      "def calc_pearson(a, b):\n",
      "    return numpy.corrcoef(a[:,2], b[:,2])[0,1]"
     ],
     "language": "python",
     "metadata": {},
     "outputs": [],
     "prompt_number": 2
    },
    {
     "cell_type": "heading",
     "level": 1,
     "metadata": {},
     "source": [
      "Spectral error detection/correction"
     ]
    },
    {
     "cell_type": "code",
     "collapsed": false,
     "input": [
      "kmers_raw = numpy.loadtxt('simple-genome-kmers.hist')\n",
      "kmers_dn = numpy.loadtxt('simple-genome-dn-kmers.hist')"
     ],
     "language": "python",
     "metadata": {},
     "outputs": [
      {
       "ename": "IOError",
       "evalue": "[Errno 2] No such file or directory: 'simple-genome-kmers.hist'",
       "output_type": "pyerr",
       "traceback": [
        "\u001b[0;31m---------------------------------------------------------------------------\u001b[0m\n\u001b[0;31mIOError\u001b[0m                                   Traceback (most recent call last)",
        "\u001b[0;32m<ipython-input-3-308d809fbe08>\u001b[0m in \u001b[0;36m<module>\u001b[0;34m()\u001b[0m\n\u001b[0;32m----> 1\u001b[0;31m \u001b[0mkmers_raw\u001b[0m \u001b[0;34m=\u001b[0m \u001b[0mnumpy\u001b[0m\u001b[0;34m.\u001b[0m\u001b[0mloadtxt\u001b[0m\u001b[0;34m(\u001b[0m\u001b[0;34m'simple-genome-kmers.hist'\u001b[0m\u001b[0;34m)\u001b[0m\u001b[0;34m\u001b[0m\u001b[0m\n\u001b[0m\u001b[1;32m      2\u001b[0m \u001b[0mkmers_dn\u001b[0m \u001b[0;34m=\u001b[0m \u001b[0mnumpy\u001b[0m\u001b[0;34m.\u001b[0m\u001b[0mloadtxt\u001b[0m\u001b[0;34m(\u001b[0m\u001b[0;34m'simple-genome-dn-kmers.hist'\u001b[0m\u001b[0;34m)\u001b[0m\u001b[0;34m\u001b[0m\u001b[0m\n",
        "\u001b[0;32m/Users/qingpeng/Library/Enthought/Canopy_64bit/User/lib/python2.7/site-packages/numpy/lib/npyio.pyc\u001b[0m in \u001b[0;36mloadtxt\u001b[0;34m(fname, dtype, comments, delimiter, converters, skiprows, usecols, unpack, ndmin)\u001b[0m\n\u001b[1;32m    735\u001b[0m                 \u001b[0mfh\u001b[0m \u001b[0;34m=\u001b[0m \u001b[0miter\u001b[0m\u001b[0;34m(\u001b[0m\u001b[0mbz2\u001b[0m\u001b[0;34m.\u001b[0m\u001b[0mBZ2File\u001b[0m\u001b[0;34m(\u001b[0m\u001b[0mfname\u001b[0m\u001b[0;34m)\u001b[0m\u001b[0;34m)\u001b[0m\u001b[0;34m\u001b[0m\u001b[0m\n\u001b[1;32m    736\u001b[0m             \u001b[0;32melif\u001b[0m \u001b[0msys\u001b[0m\u001b[0;34m.\u001b[0m\u001b[0mversion_info\u001b[0m\u001b[0;34m[\u001b[0m\u001b[0;36m0\u001b[0m\u001b[0;34m]\u001b[0m \u001b[0;34m==\u001b[0m \u001b[0;36m2\u001b[0m\u001b[0;34m:\u001b[0m\u001b[0;34m\u001b[0m\u001b[0m\n\u001b[0;32m--> 737\u001b[0;31m                 \u001b[0mfh\u001b[0m \u001b[0;34m=\u001b[0m \u001b[0miter\u001b[0m\u001b[0;34m(\u001b[0m\u001b[0mopen\u001b[0m\u001b[0;34m(\u001b[0m\u001b[0mfname\u001b[0m\u001b[0;34m,\u001b[0m \u001b[0;34m'U'\u001b[0m\u001b[0;34m)\u001b[0m\u001b[0;34m)\u001b[0m\u001b[0;34m\u001b[0m\u001b[0m\n\u001b[0m\u001b[1;32m    738\u001b[0m             \u001b[0;32melse\u001b[0m\u001b[0;34m:\u001b[0m\u001b[0;34m\u001b[0m\u001b[0m\n\u001b[1;32m    739\u001b[0m                 \u001b[0mfh\u001b[0m \u001b[0;34m=\u001b[0m \u001b[0miter\u001b[0m\u001b[0;34m(\u001b[0m\u001b[0mopen\u001b[0m\u001b[0;34m(\u001b[0m\u001b[0mfname\u001b[0m\u001b[0;34m)\u001b[0m\u001b[0;34m)\u001b[0m\u001b[0;34m\u001b[0m\u001b[0m\n",
        "\u001b[0;31mIOError\u001b[0m: [Errno 2] No such file or directory: 'simple-genome-kmers.hist'"
       ]
      }
     ],
     "prompt_number": 3
    },
    {
     "cell_type": "code",
     "collapsed": false,
     "input": [
      "plot(kmers_raw[:,0], kmers_raw[:,1], 'b-', label='original')\n",
      "plot(kmers_dn[:,0], kmers_dn[:,1], 'r--', label='diginorm')\n",
      "\n",
      "axis(ymax=500)\n",
      "xlabel('k-mer abundance')\n",
      "ylabel('N k-mers at that abundance')\n",
      "legend(loc='upper right')\n",
      "savefig('../paper/figures/kmer-spectrum.pdf')"
     ],
     "language": "python",
     "metadata": {},
     "outputs": []
    },
    {
     "cell_type": "heading",
     "level": 1,
     "metadata": {},
     "source": [
      "Saturation curve"
     ]
    },
    {
     "cell_type": "code",
     "collapsed": false,
     "input": [
      "import numpy\n",
      "ecoli_dn = numpy.loadtxt('ecoli-dn-report.txt')\n",
      "ecoli_errfree = numpy.loadtxt('ecoli-errfree-report.txt')"
     ],
     "language": "python",
     "metadata": {},
     "outputs": []
    },
    {
     "cell_type": "code",
     "collapsed": false,
     "input": [
      "plot(ecoli_dn[:,0] / 1e6, ecoli_dn[:,1] / 1e6, 'b-', label='E. coli real data')\n",
      "plot(ecoli_errfree[:,0] / 1e6, ecoli_errfree[:,1] / 1e6, 'g--', label='E. coli synthetic/no errors')\n",
      "legend(loc='upper left')\n",
      "axis(ymax=2.5)\n",
      "xlabel('N of reads examined (m)')\n",
      "ylabel('N of reads collected < C (m)')\n",
      "savefig('../paper/figures/saturation.pdf')"
     ],
     "language": "python",
     "metadata": {},
     "outputs": []
    },
    {
     "cell_type": "code",
     "collapsed": false,
     "input": [
      "ls *.errhist"
     ],
     "language": "python",
     "metadata": {},
     "outputs": []
    },
    {
     "cell_type": "code",
     "collapsed": false,
     "input": [
      "ecoli_sam_err = numpy.loadtxt('ecoli-reads.sam.errhist', skiprows=1)\n",
      "ecoli_spec_err = numpy.loadtxt('ecoli-mapped.fq.gz.errhist', skiprows=1)\n",
      "ecoli_spec_err2 = numpy.loadtxt('ecoli-mapped.fq.gz.errhist2', skiprows=1)\n",
      "\n",
      "plot(ecoli_sam_err[:,0], ecoli_sam_err[:,2], 'b--', label='bowtie2 mismatches')\n",
      "plot(ecoli_spec_err[:,0], ecoli_spec_err[:,2] * 4, 'g-', label='k-mer subsample (scaled)')\n",
      "plot(ecoli_spec_err[:,0], ecoli_spec_err2[:,2] * 4, 'g-', label='k-mer 2pass (scaled)')\n",
      "\n",
      "legend(loc='upper left')\n",
      "xlabel('position in read')\n",
      "ylabel('frequency of errors at that position')\n",
      "savefig('../paper/figures/ecoli-errhist.pdf')"
     ],
     "language": "python",
     "metadata": {},
     "outputs": []
    },
    {
     "cell_type": "code",
     "collapsed": false,
     "input": [
      "ecoli_spec_sub0 = numpy.loadtxt('ecoli-mapped.fq.gz.subset.0.errhist', skiprows=1)\n",
      "ecoli_spec_sub1 = numpy.loadtxt('ecoli-mapped.fq.gz.subset.1.errhist', skiprows=1)\n",
      "ecoli_spec_sub2 = numpy.loadtxt('ecoli-mapped.fq.gz.subset.2.errhist', skiprows=1)\n",
      "ecoli_spec_sub3 = numpy.loadtxt('ecoli-mapped.fq.gz.subset.3.errhist', skiprows=1)\n",
      "ecoli_spec_sub4 = numpy.loadtxt('ecoli-mapped.fq.gz.subset.4.errhist', skiprows=1)\n",
      "\n",
      "\n",
      "plot(ecoli_sam_err[:,0], ecoli_sam_err[:,2], 'b--', label='bowtie2 mismatches')\n",
      "plot(ecoli_spec_err[:,0], ecoli_spec_err[:,2] * 4, 'g-', label='k-mer spectral (scaled)')\n",
      "plot(ecoli_spec_err2[:,0], ecoli_spec_err2[:,2] * 2, 'r-', label='k-mer spectral (random sample)')\n",
      "\n",
      "#plot(ecoli_spec_sub0[:,0], ecoli_spec_sub0[:,2] * 4, 'g-', label='k-mer spectra (scaled)')\n",
      "#plot(ecoli_spec_sub1[:,0], ecoli_spec_sub1[:,2] * 4, 'g-', label='k-mer spectra (scaled)')\n",
      "#plot(ecoli_spec_sub2[:,0], ecoli_spec_sub2[:,2] * 4, 'g-', label='k-mer spectra (scaled)')\n",
      "#plot(ecoli_spec_sub3[:,0], ecoli_spec_sub3[:,2] * 4, 'g-', label='k-mer spectra (scaled)')\n",
      "#plot(ecoli_spec_sub4[:,0], ecoli_spec_sub4[:,2] * 4, 'g-', label='k-mer spectra (scaled)')\n",
      "\n",
      "legend(loc='upper left')\n",
      "xlabel('Position in read')\n",
      "ylabel('Frequency of errors at that position')\n",
      "#savefig('../paper/figures/ecoli-errhist.pdf')"
     ],
     "language": "python",
     "metadata": {},
     "outputs": []
    },
    {
     "cell_type": "code",
     "collapsed": false,
     "input": [
      "print calc_pearson(ecoli_sam_err, ecoli_spec_err)\n",
      "print calc_pearson(ecoli_sam_err, ecoli_spec_err2)\n",
      "\n",
      "print calc_pearson(ecoli_sam_err, ecoli_spec_sub0)\n",
      "print calc_pearson(ecoli_sam_err, ecoli_spec_sub1)\n",
      "print calc_pearson(ecoli_sam_err, ecoli_spec_sub2)\n",
      "print calc_pearson(ecoli_sam_err, ecoli_spec_sub3)\n",
      "print calc_pearson(ecoli_sam_err, ecoli_spec_sub4)\n",
      "\n",
      "print calc_pearson(ecoli_spec_err, ecoli_spec_sub0)\n",
      "print calc_pearson(ecoli_spec_err, ecoli_spec_sub1)\n",
      "print calc_pearson(ecoli_spec_err, ecoli_spec_sub2)\n",
      "print calc_pearson(ecoli_spec_err, ecoli_spec_sub3)\n",
      "print calc_pearson(ecoli_spec_err, ecoli_spec_sub4)\n",
      "\n",
      "print calc_pearson(ecoli_spec_err2, ecoli_spec_sub0)\n",
      "print calc_pearson(ecoli_spec_err2, ecoli_spec_sub1)\n",
      "print calc_pearson(ecoli_spec_err2, ecoli_spec_sub2)\n",
      "print calc_pearson(ecoli_spec_err2, ecoli_spec_sub3)\n",
      "print calc_pearson(ecoli_spec_err2, ecoli_spec_sub4)"
     ],
     "language": "python",
     "metadata": {},
     "outputs": []
    },
    {
     "cell_type": "code",
     "collapsed": false,
     "input": [
      "rseq_sam_err = numpy.loadtxt('rseq-reads.sam.errhist', skiprows=1)\n",
      "rseq_spec_err = numpy.loadtxt('rseq-mapped.fq.gz.errhist', skiprows=1)\n",
      "rseq_spec_err2 = numpy.loadtxt('rseq-mapped.fq.gz.errhist2', skiprows=1)\n",
      "rseq_sub0 = numpy.loadtxt('rseq-mapped.fq.gz.subset.0.errhist', skiprows=1)\n",
      "rseq_sub1 = numpy.loadtxt('rseq-mapped.fq.gz.subset.1.errhist', skiprows=1)\n",
      "rseq_sub2 = numpy.loadtxt('rseq-mapped.fq.gz.subset.2.errhist', skiprows=1)\n",
      "rseq_sub3 = numpy.loadtxt('rseq-mapped.fq.gz.subset.3.errhist', skiprows=1)\n",
      "rseq_sub4 = numpy.loadtxt('rseq-mapped.fq.gz.subset.4.errhist', skiprows=1)\n",
      "\n",
      "plot(rseq_sam_err[:,0], rseq_sam_err[:,2], 'b--', label='bowtie2 mismatches')\n",
      "plot(rseq_spec_err[:,0], 4* rseq_spec_err[:,2], 'g-', label='k-mer subsample (scaled)')\n",
      "#plot(rseq_sub2[:,0], 4* rseq_sub2[:,2], 'g-.', label='k-mer spectral (scaled) sub2')\n",
      "plot(rseq_spec_err2[:,0], 4* rseq_spec_err2[:,2], 'r-', label='k-mer 2pass (scaled)')\n",
      "\n",
      "legend(loc='upper left')\n",
      "axis(ymax=0.05)\n",
      "xlabel('position in read')\n",
      "ylabel('frequency of errors at that position')\n",
      "savefig('../paper/figures/rseq-errhist.pdf')"
     ],
     "language": "python",
     "metadata": {},
     "outputs": []
    },
    {
     "cell_type": "code",
     "collapsed": false,
     "input": [
      "print calc_pearson(rseq_spec_err, rseq_sam_err)\n",
      "print calc_pearson(rseq_spec_err, rseq_spec_err2)\n",
      "\n",
      "print calc_pearson(rseq_spec_err, rseq_sub0)\n",
      "print calc_pearson(rseq_spec_err, rseq_sub1)\n",
      "print calc_pearson(rseq_spec_err, rseq_sub2)\n",
      "print calc_pearson(rseq_spec_err, rseq_sub3)\n",
      "print calc_pearson(rseq_spec_err, rseq_sub4)\n",
      "\n",
      "print calc_pearson(rseq_sam_err, rseq_sub0)\n",
      "print calc_pearson(rseq_sam_err, rseq_sub1)\n",
      "print calc_pearson(rseq_sam_err, rseq_sub2)\n",
      "print calc_pearson(rseq_sam_err, rseq_sub3)\n",
      "print calc_pearson(rseq_sam_err, rseq_sub4)"
     ],
     "language": "python",
     "metadata": {},
     "outputs": []
    },
    {
     "cell_type": "markdown",
     "metadata": {},
     "source": [
      "# Appendix - Error histograms"
     ]
    },
    {
     "cell_type": "code",
     "collapsed": false,
     "input": [
      "simple_errhist_pred = numpy.loadtxt('simple-genome-reads-even.fa.errhist', skiprows=1)\n",
      "simple_errhist_map = numpy.loadtxt('simple-genome-reads-even.sam.errhist', skiprows=1)\n"
     ],
     "language": "python",
     "metadata": {},
     "outputs": []
    },
    {
     "cell_type": "code",
     "collapsed": false,
     "input": [
      "plot(simple_errhist_pred[:,0], simple_errhist_pred[:,2])\n",
      "plot(simple_errhist_map[:,0], simple_errhist_map[:,2])\n",
      "#reshape(simple_errhist_map, \n",
      "axis(xmin=-5, xmax=30)"
     ],
     "language": "python",
     "metadata": {},
     "outputs": []
    },
    {
     "cell_type": "code",
     "collapsed": false,
     "input": [
      "print 'sumposdiff', sum( (simple_errhist_pred[:,2] - simple_errhist_map[:,2]) > 0)\n",
      "print 'sumnegdiff', sum( (simple_errhist_pred[:,2] - simple_errhist_map[:,2]) < 0)\n",
      "print 'avg', sum( (simple_errhist_pred[:,2] - simple_errhist_map[:,2])) / float(len(simple_errhist_pred))\n",
      "print 'var', numpy.var(simple_errhist_pred[:,2]- simple_errhist_map[:,2])"
     ],
     "language": "python",
     "metadata": {},
     "outputs": []
    },
    {
     "cell_type": "code",
     "collapsed": false,
     "input": [
      "diff = simple_errhist_map[:,2] - simple_errhist_pred[:,2]\n",
      "plot(simple_errhist_pred[:,0], diff)\n",
      "#axis(xmin=50, xmax=100)\n",
      "axis(xmin=-5)"
     ],
     "language": "python",
     "metadata": {},
     "outputs": []
    },
    {
     "cell_type": "code",
     "collapsed": false,
     "input": [],
     "language": "python",
     "metadata": {},
     "outputs": []
    },
    {
     "cell_type": "code",
     "collapsed": false,
     "input": [],
     "language": "python",
     "metadata": {},
     "outputs": []
    }
   ],
   "metadata": {}
  }
 ]
}